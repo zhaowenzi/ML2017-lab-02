{
 "cells": [
  {
   "cell_type": "code",
   "execution_count": 116,
   "metadata": {},
   "outputs": [],
   "source": [
    "import numpy as np\n",
    "import math\n",
    "import random\n",
    "import matplotlib.pyplot as plt\n",
    "from sklearn.externals.joblib import Memory\n",
    "from sklearn.datasets import load_svmlight_file\n",
    "from sklearn.model_selection import train_test_split"
   ]
  },
  {
   "cell_type": "code",
   "execution_count": 117,
   "metadata": {},
   "outputs": [],
   "source": [
    "def get_data():\n",
    "    data_train = load_svmlight_file('./Desktop/a9a')\n",
    "    data_test = load_svmlight_file('./Desktop/a9a.t')\n",
    "    return data_train[0].todense(), data_train[1], data_test[0].todense(), data_test[1]\n",
    "\n",
    "X_train, y_train, X_test, y_test = get_data()\n",
    "(n,m) = np.shape(X_train)\n",
    "X_train = np.hstack((X_train, np.ones((n,1))))\n",
    "(n,m) = np.shape(X_test)\n",
    "X_test = np.hstack((X_test, np.zeros((n, 1))))\n",
    "X_test = np.hstack((X_test, np.ones((n, 1))))\n",
    "y_train = np.reshape(y_train, (len(y_train), 1))\n",
    "y_test = np.reshape(y_test, (len(y_test), 1))"
   ]
  },
  {
   "cell_type": "code",
   "execution_count": 118,
   "metadata": {},
   "outputs": [],
   "source": [
    "(n,m) = np.shape(X_train)\n",
    "\n",
    "nag_train=[]\n",
    "nag_test=[]\n",
    "rms_train=[]\n",
    "rms_test=[]\n",
    "ada_train=[]\n",
    "ada_test=[]\n",
    "adam_train=[]\n",
    "adam_test=[]\n",
    "\n",
    "wnag=np.zeros((m,1))\n",
    "vnag=np.zeros((m,1))\n",
    "wrms=np.zeros((m,1))\n",
    "Grms=np.zeros((m,1))\n",
    "wada=np.zeros((m,1))\n",
    "Gada=np.zeros((m,1))\n",
    "Tada=np.zeros((m,1))\n",
    "wadam=np.zeros((m,1))\n",
    "Gadam=np.zeros((m,1))\n",
    "madam=np.zeros((m,1))"
   ]
  },
  {
   "cell_type": "code",
   "execution_count": 119,
   "metadata": {},
   "outputs": [],
   "source": [
    "def hingeloss(X, y, theta):\n",
    "    l = 1 - np.multiply(y, X * theta)\n",
    "    l2 = (l >= 0)\n",
    "    result = np.multiply(l, l2)\n",
    "    return np.sum(result)"
   ]
  },
  {
   "cell_type": "code",
   "execution_count": 120,
   "metadata": {},
   "outputs": [],
   "source": [
    "def gradient(X, y, theta, aita):\n",
    "    C = 1\n",
    "    l = 1 - np.multiply(y, X * theta)\n",
    "    l2 = (l >= 0)\n",
    "    tmp = np.multiply(y, l2)\n",
    "    return theta - C * np.sum(np.multiply(X, tmp), 0).T"
   ]
  },
  {
   "cell_type": "code",
   "execution_count": 121,
   "metadata": {},
   "outputs": [],
   "source": [
    "def NAG(X, y, theta, v, ganma, aita):\n",
    "    grad = gradient(X, y, theta - ganma * v, 0.5)\n",
    "    v = ganma * v + aita * grad\n",
    "    theta = theta - v\n",
    "    return theta, v"
   ]
  },
  {
   "cell_type": "code",
   "execution_count": 122,
   "metadata": {},
   "outputs": [],
   "source": [
    "def RMSprob(X, y, theta, G, ganma, aita, e):\n",
    "    grad = gradient(X, y, theta, aita)\n",
    "    dot_product = np.multiply(grad, grad)\n",
    "    G = ganma * G + (1 - ganma) * dot_product\n",
    "    dot = np.multiply(aita / (np.sqrt(G + e)), grad)\n",
    "\n",
    "    theta = theta - dot\n",
    "    return theta, G"
   ]
  },
  {
   "cell_type": "code",
   "execution_count": 123,
   "metadata": {},
   "outputs": [],
   "source": [
    "def AdaDelta(X, y, theta, G, ganma, delta, aita, e):\n",
    "    grad = gradient(X, y, theta, 1)\n",
    "    dot_product = np.square(grad)\n",
    "    G = ganma * G + (1 - ganma) * dot_product\n",
    "    delta_w = np.multiply((np.sqrt(delta + e) / np.sqrt(G + e)), grad)\n",
    "    theta = theta - delta_w\n",
    "    delta = ganma * delta + (1 - ganma) * (np.square(delta_w))\n",
    "    return theta, G, delta"
   ]
  },
  {
   "cell_type": "code",
   "execution_count": 124,
   "metadata": {},
   "outputs": [],
   "source": [
    "def Adam(X, y, theta, G, m, ganma, t, aita, belta):\n",
    "    grad = gradient(X, y, theta, 0.05)\n",
    "    m = belta * m + (1 - belta) * grad\n",
    "    G = ganma * G + (1 - ganma) * (np.multiply(grad, grad))\n",
    "    alpha = aita * (np.sqrt(1 - math.pow(ganma, t)) / (1 - math.pow(belta,t)))\n",
    "    theta = theta - alpha * (m / (np.sqrt(G + e)))\n",
    "    return theta, G, m"
   ]
  },
  {
   "cell_type": "code",
   "execution_count": 125,
   "metadata": {},
   "outputs": [],
   "source": [
    "ganma = 0.9\n",
    "aita = 0.001\n",
    "e = 0.0001\n",
    "belta = 0.9\n",
    "\n",
    "for i in range(50):\n",
    "    \n",
    "    X_trainset,X_other,y_trainset,y_other=train_test_split(X_train,y_train,test_size=0.995,random_state=random.randint(1,100))\n",
    "    #NAG实现\n",
    "    ganma = 0.9\n",
    "    aita = 0.001\n",
    "    wnag,vnag = NAG(X_trainset, y_trainset, wnag, vnag, ganma, aita)\n",
    "  \n",
    "    nag_train.append(hingeloss(X_trainset, y_trainset, wnag))\n",
    "    nag_test.append(hingeloss(X_test, y_test, wnag))\n",
    "   \n",
    "    #RMSProb实现\n",
    "    ganma = 0.9\n",
    "    aita = 0.01\n",
    "    wrms,Grms = RMSprob(X_trainset, y_trainset, wrms, Grms, ganma, aita, e)\n",
    "    rms_train.append(hingeloss(X_trainset, y_trainset, wrms))\n",
    "    rms_test.append(hingeloss(X_test, y_test, wrms))\n",
    "    \n",
    "    \n",
    "    ganma=0.9\n",
    "    aita=0.001\n",
    " \n",
    "    wada,Gada,Tada = AdaDelta(X_trainset, y_trainset, wada, Gada, ganma, Tada, aita, e)\n",
    "    ada_train.append(hingeloss(X_trainset, y_trainset, wada))\n",
    "    ada_test.append(hingeloss(X_test, y_test, wada))\n",
    "    \n",
    "    #Adam实现\n",
    "    ganma = 0.9\n",
    "    aita = 0.01\n",
    "    wadam,Gadam,madam=Adam(X_trainset, y_trainset, wadam, Gadam, madam, ganma, i+1, aita, belta)\n",
    "    adam_train.append(hingeloss(X_trainset, y_trainset, wadam))\n",
    "    adam_test.append(hingeloss(X_test, y_test, wadam))\n",
    "    "
   ]
  },
  {
   "cell_type": "code",
   "execution_count": 126,
   "metadata": {},
   "outputs": [
    {
     "data": {
      "image/png": "[encoded data removed]",
      "text/plain": [
       "<matplotlib.figure.Figure at 0x10c0cd5f8>"
      ]
     },
     "metadata": {},
     "output_type": "display_data"
    }
   ],
   "source": [
    "\n",
    "\n",
    "plt.xlabel('times')\n",
    "plt.ylabel('loss')\n",
    "plt.plot(range(len(nag_test)),nag_test,label=\"NAG\")\n",
    "plt.plot(range(len(ada_test)),ada_test,label=\"AdaDelta\")\n",
    "plt.plot(range(len(rms_test)),rms_test,label=\"RMSprop\")\n",
    "plt.plot(range(len(adam_test)),adam_test,label=\"Adam\")\n",
    "plt.legend()\n",
    "plt.show()\n"
   ]
  },
  {
   "cell_type": "code",
   "execution_count": null,
   "metadata": {},
   "outputs": [],
   "source": []
  }
 ],
 "metadata": {
  "kernelspec": {
   "display_name": "Python 3",
   "language": "python",
   "name": "python3"
  },
  "language_info": {
   "codemirror_mode": {
    "name": "ipython",
    "version": 3
   },
   "file_extension": ".py",
   "mimetype": "text/x-python",
   "name": "python",
   "nbconvert_exporter": "python",
   "pygments_lexer": "ipython3",
   "version": "3.6.3"
  }
 },
 "nbformat": 4,
 "nbformat_minor": 2
}
