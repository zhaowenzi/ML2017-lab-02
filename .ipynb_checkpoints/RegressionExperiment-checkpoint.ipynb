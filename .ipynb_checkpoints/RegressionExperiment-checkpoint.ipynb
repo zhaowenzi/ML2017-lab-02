{
 "cells": [
  {
   "cell_type": "code",
   "execution_count": 1,
   "metadata": {},
   "outputs": [],
   "source": [
    "import numpy as np\n",
    "import math\n",
    "import random\n",
    "import matplotlib.pyplot as plt\n",
    "from sklearn.externals.joblib import Memory\n",
    "from sklearn.datasets import load_svmlight_file\n",
    "from sklearn.model_selection import train_test_split"
   ]
  },
  {
   "cell_type": "code",
   "execution_count": 2,
   "metadata": {},
   "outputs": [],
   "source": [
    "def get_data():\n",
    "    data_train = load_svmlight_file('../a9a')\n",
    "    data_test = load_svmlight_file('../a9a.t')\n",
    "    return data_train[0].todense(), data_train[1], data_test[0].todense(), data_test[1]\n",
    "\n",
    "def data_handle(data):\n",
    "    for i in range(len(data)):\n",
    "        if data[i] == -1:\n",
    "            data[i] = 0\n",
    "        else:\n",
    "            data[i] = 1\n",
    "    return np.reshape(data, (len(data), 1))\n",
    "\n",
    "X_train, y_train, X_test, y_test = get_data()\n",
    "(n,m) = np.shape(X_train)\n",
    "X_train = np.hstack((X_train, np.ones((n, 1))))\n",
    "(n,m) = np.shape(X_test)\n",
    "X_test = np.hstack((X_test, np.ones((n, 1))))\n",
    "X_test = np.hstack((X_test, np.ones((n,1))))\n",
    "\n",
    "y_train = data_handle(y_train)\n",
    "y_test = data_handle(y_test)"
   ]
  },
  {
   "cell_type": "code",
   "execution_count": 3,
   "metadata": {},
   "outputs": [],
   "source": [
    "(n,m)=np.shape(X_train)\n",
    "ganma=0.9\n",
    "aita=0.001\n",
    "# aita=0.001\n",
    "e=0.0001\n",
    "belta=0.9\n",
    "\n",
    "nag_train=[]\n",
    "nag_test=[]\n",
    "rms_train=[]\n",
    "rms_test=[]\n",
    "ada_train=[]\n",
    "ada_test=[]\n",
    "adam_train=[]\n",
    "adam_test=[]\n",
    "\n",
    "wnag=np.zeros((m,1))\n",
    "vnag=np.zeros((m,1))\n",
    "wrms=np.zeros((m,1))\n",
    "Grms=np.zeros((m,1))\n",
    "wada=np.zeros((m,1))\n",
    "Gada=np.zeros((m,1))\n",
    "Tada=np.zeros((m,1))\n",
    "wadam=np.zeros((m,1))\n",
    "Gadam=np.zeros((m,1))\n",
    "madam=np.zeros((m,1))"
   ]
  },
  {
   "cell_type": "code",
   "execution_count": 4,
   "metadata": {},
   "outputs": [],
   "source": [
    "def sigmoid(X, w):\n",
    "    h = 1.0 / (1 + np.exp(-X * w))\n",
    "    return h"
   ]
  },
  {
   "cell_type": "code",
   "execution_count": 5,
   "metadata": {},
   "outputs": [],
   "source": [
    "def gradient(X, y, theta):\n",
    "    h = sigmoid(X, theta)\n",
    "    h = np.reshape(h, (len(h), 1))    \n",
    "    sub = h - y\n",
    "    return X.T * sub"
   ]
  },
  {
   "cell_type": "code",
   "execution_count": 6,
   "metadata": {},
   "outputs": [],
   "source": [
    "def error_rate(y_cal,y_lab):\n",
    "    total = len(y_cal)\n",
    "    error_num = 0\n",
    "    for i in range(total):\n",
    "        if y_cal[i] != y_lab[i]:\n",
    "            error_num += 1\n",
    "    return error_num / total"
   ]
  },
  {
   "cell_type": "code",
   "execution_count": 7,
   "metadata": {},
   "outputs": [],
   "source": [
    "def cost(X, y, theta):\n",
    "    h = sigmoid(X, theta)\n",
    "    result = [h[i] if y[i]==1 else (1-h[i]) for i in range(len(y))]\n",
    "    result = np.reshape(result, (len(y),1))\n",
    "    return sum(-result) / len(y)"
   ]
  },
  {
   "cell_type": "code",
   "execution_count": 8,
   "metadata": {},
   "outputs": [],
   "source": [
    "def get_y_cal(X, theta):\n",
    "    y = np.ones((np.shape(X)[0],1))\n",
    "    h = sigmoid(X, theta)\n",
    "    for i in range(len(y)):\n",
    "        y[i] = (1 if h[i] > 0.5 else 0)\n",
    "    return y"
   ]
  },
  {
   "cell_type": "code",
   "execution_count": 9,
   "metadata": {},
   "outputs": [],
   "source": [
    "def NAG(X, y, theta, v, ganma, aita):\n",
    "    grad = gradient(X, y, theta - ganma * v)\n",
    "    v = ganma * v + aita * grad\n",
    "    theta = theta - v\n",
    "    return theta, v"
   ]
  },
  {
   "cell_type": "code",
   "execution_count": 10,
   "metadata": {},
   "outputs": [],
   "source": [
    "def RMSprob(X, y, theta, G, ganma, aita, e):\n",
    "    grad = gradient(X, y, theta)\n",
    "    dot_product = np.multiply(grad, grad)\n",
    "    G = ganma * G + (1 - ganma) * dot_product\n",
    "    dot = np.multiply(aita / (np.sqrt(G + e)), grad)\n",
    "\n",
    "    theta = theta - dot\n",
    "    return theta, G"
   ]
  },
  {
   "cell_type": "code",
   "execution_count": 11,
   "metadata": {},
   "outputs": [],
   "source": [
    "def AdaDelta(X, y, theta, G, ganma, Tada, e):\n",
    "    grad = gradient(X, y, theta)\n",
    "    dot_product = np.multiply(grad, grad)\n",
    "    G = ganma * G + (1 - ganma) * dot_product\n",
    "    wSub = -np.multiply(np.sqrt(Tada + e) / np.sqrt(G + e), grad)\n",
    "    theta = theta + wSub\n",
    "    Tada = ganma * Tada + (1-ganma) * (np.multiply(wSub, wSub))\n",
    "    return theta, G, Tada"
   ]
  },
  {
   "cell_type": "code",
   "execution_count": 12,
   "metadata": {},
   "outputs": [],
   "source": [
    "def Adam(X, y, theta, G, m, ganma, t, aita, belta):\n",
    "    grad = gradient(X,y,theta)\n",
    "    m = belta * m + (1 - belta) * grad\n",
    "    G = ganma * G + (1 - ganma) * (np.multiply(grad, grad))\n",
    "    alpha = aita * (np.sqrt(1 - math.pow(ganma, t)) / (1 - math.pow(belta,t)))\n",
    "    theta = theta - alpha * (m / (np.sqrt(G + e)))\n",
    "    return theta, G, m"
   ]
  },
  {
   "cell_type": "code",
   "execution_count": 13,
   "metadata": {},
   "outputs": [],
   "source": [
    "for i in range(50):\n",
    "    \n",
    "    X_trainset, X_other, y_trainset, y_other = train_test_split(X_train, y_train, test_size=0.99, random_state = random.randint(1,100))\n",
    "    ganma=0.9\n",
    "    aita=0.001\n",
    "    wnag,vnag = NAG(X_trainset, y_trainset, wnag, vnag, ganma, aita)\n",
    "    nag_train.append(cost(X_trainset, y_trainset, wnag))\n",
    "    nag_test.append(cost(X_test, y_test, wnag))\n",
    "   \n",
    "    \n",
    "   #RMSProb实现\n",
    "    ganma = 0.9\n",
    "    aita = 0.02\n",
    "    wrms, Grms = RMSprob(X_trainset, y_trainset, wrms, Grms, ganma, aita, e)\n",
    "    rms_train.append(cost(X_trainset, y_trainset, wrms))\n",
    "    rms_test.append(cost(X_test, y_test, wrms))\n",
    "    \n",
    "    #Adadelta\n",
    "    ganma = 0.95\n",
    "    etha = 0.01\n",
    "    wada, Gada, Tada = AdaDelta(X_trainset, y_trainset, wada, Gada, ganma, Tada, e)\n",
    "    ada_train.append(cost(X_trainset, y_trainset, wada))\n",
    "    ada_test.append(cost(X_test, y_test, wada))\n",
    "    \n",
    "    #Adam实现\n",
    "    \n",
    "    ganma = 0.9\n",
    "    aita = 0.01\n",
    "    wadam,Gadam,madam=Adam(X_trainset, y_trainset, wadam, Gadam, madam, ganma, i+1, aita, belta)\n",
    "    adam_train.append(cost(X_trainset, y_trainset, wadam))\n",
    "    adam_test.append(cost(X_test, y_test, wadam))\n",
    "\n",
    "# print(nag_train)\n",
    "# print(nag_test)\n",
    "# print(rms_train)\n",
    "# print(rms_test)\n",
    "\n",
    "# # print(ada_train)\n",
    "# print(ada_test)\n",
    "# # print(adam_train)\n",
    "# print(adam_test)"
   ]
  },
  {
   "cell_type": "code",
   "execution_count": 14,
   "metadata": {},
   "outputs": [
    {
     "data": {
      "image/png": "[encoded data removed]",
      "text/plain": [
       "<matplotlib.figure.Figure at 0x1113354a8>"
      ]
     },
     "metadata": {},
     "output_type": "display_data"
    }
   ],
   "source": [
    "plt.xlabel('times')\n",
    "plt.ylabel('loss')\n",
    "\n",
    "plt.plot(range(len(nag_test)),nag_test,label=\"NAG\")\n",
    "plt.plot(range(len(ada_test)),ada_test,label=\"AdaDelta\")\n",
    "plt.plot(range(len(rms_test)),rms_test,label=\"RMSprop\")\n",
    "plt.plot(range(len(adam_test)),adam_test,label=\"Adam\")\n",
    "plt.legend()\n",
    "plt.show()"
   ]
  },
  {
   "cell_type": "code",
   "execution_count": null,
   "metadata": {},
   "outputs": [],
   "source": []
  },
  {
   "cell_type": "code",
   "execution_count": null,
   "metadata": {},
   "outputs": [],
   "source": []
  }
 ],
 "metadata": {
  "kernelspec": {
   "display_name": "Python 3",
   "language": "python",
   "name": "python3"
  },
  "language_info": {
   "codemirror_mode": {
    "name": "ipython",
    "version": 3
   },
   "file_extension": ".py",
   "mimetype": "text/x-python",
   "name": "python",
   "nbconvert_exporter": "python",
   "pygments_lexer": "ipython3",
   "version": "3.6.3"
  }
 },
 "nbformat": 4,
 "nbformat_minor": 2
}
